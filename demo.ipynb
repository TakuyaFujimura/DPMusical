{
 "cells": [
  {
   "cell_type": "code",
   "execution_count": null,
   "metadata": {},
   "outputs": [],
   "source": [
    "!git clone https://github.com/TakuyaFujimura/DPMusical.git"
   ]
  },
  {
   "cell_type": "code",
   "execution_count": null,
   "metadata": {},
   "outputs": [],
   "source": [
    "%cd DPMusical"
   ]
  },
  {
   "cell_type": "code",
   "execution_count": null,
   "metadata": {},
   "outputs": [],
   "source": [
    "import torchaudio\n",
    "from model import DPRemover\n",
    "\n",
    "from omegaconf import OmegaConf\n",
    "config = OmegaConf.load(\"config.yaml\")"
   ]
  },
  {
   "cell_type": "code",
   "execution_count": null,
   "metadata": {},
   "outputs": [],
   "source": [
    "remover = DPRemover(config)\n",
    "\n",
    "noisy, sf = torchaudio.load(\"data/noisy.wav\") # [ch, time]\n",
    "estimate = remover(noisy[0])[None]\n",
    "torchaudio.save(\"data/estimate.wav\", estimate, sf) # [ch, time]\n",
    "\n",
    "import IPython.display\n",
    "IPython.display.display(IPython.display.Audio(\"data/noisy.wav\"))\n",
    "IPython.display.display(IPython.display.Audio(\"data/estimate.wav\"))"
   ]
  },
  {
   "cell_type": "code",
   "execution_count": null,
   "metadata": {},
   "outputs": [],
   "source": []
  }
 ],
 "metadata": {
  "kernelspec": {
   "display_name": "venv",
   "language": "python",
   "name": "python3"
  },
  "language_info": {
   "codemirror_mode": {
    "name": "ipython",
    "version": 3
   },
   "file_extension": ".py",
   "mimetype": "text/x-python",
   "name": "python",
   "nbconvert_exporter": "python",
   "pygments_lexer": "ipython3",
   "version": "3.9.13"
  },
  "orig_nbformat": 4
 },
 "nbformat": 4,
 "nbformat_minor": 2
}
